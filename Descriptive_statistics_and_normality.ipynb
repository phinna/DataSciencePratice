{
 "cells": [
  {
   "cell_type": "code",
   "execution_count": 1,
   "metadata": {
    "collapsed": true
   },
   "outputs": [],
   "source": [
    "import pandas as pd\n",
    "import numpy as np\n",
    "import matplotlib.pyplot as plt"
   ]
  },
  {
   "cell_type": "code",
   "execution_count": 35,
   "metadata": {
    "collapsed": false
   },
   "outputs": [
    {
     "name": "stdout",
     "output_type": "stream",
     "text": [
      "[13 14 15 19 12 18 18 18 17 13 14 16 16 13 15 20 15 15 13 15 14 15 16 16 13\n",
      " 14 13 14 13 18 18 13 17  8 14 12 18 16 10 17 13 20 16 18 15 15 14 16 13 16\n",
      " 15 15 12 15 11 11 13 11 13 14 11 14 14 15 16 17 13 12 14 11 15 15 15 15 13\n",
      " 15 12 17 19 14 22 11 16 11 21 17 13 12 18 16 17 11 19 13 14 14 16 15 18 15]\n"
     ]
    }
   ],
   "source": [
    "# Generate a binomial distribution with n=30 and p=0.5\n",
    "binomial = np.random.binomial(30, 0.5, 100)\n",
    "print (binomial)"
   ]
  },
  {
   "cell_type": "code",
   "execution_count": 36,
   "metadata": {
    "collapsed": false
   },
   "outputs": [
    {
     "data": {
      "text/plain": [
       "(array([  1.,   1.,  14.,  16.,  14.,  31.,   7.,  12.,   2.,   2.]),\n",
       " array([  8. ,   9.4,  10.8,  12.2,  13.6,  15. ,  16.4,  17.8,  19.2,\n",
       "         20.6,  22. ]),\n",
       " <a list of 10 Patch objects>)"
      ]
     },
     "execution_count": 36,
     "metadata": {},
     "output_type": "execute_result"
    }
   ],
   "source": [
    "plt.hist(binomial, bins=10, color='c')\n",
    "# plt.show()"
   ]
  },
  {
   "cell_type": "code",
   "execution_count": 42,
   "metadata": {
    "collapsed": false
   },
   "outputs": [
    {
     "name": "stdout",
     "output_type": "stream",
     "text": [
      "binomialMean:  14.8\n",
      "binomialStd:  2.5179356624\n"
     ]
    }
   ],
   "source": [
    "binomialMean = binomial.mean()\n",
    "print (\"binomialMean: \", binomialMean)\n",
    "binomialStd = binomial.std()\n",
    "print (\"binomialStd: \", binomialStd)"
   ]
  },
  {
   "cell_type": "code",
   "execution_count": 39,
   "metadata": {
    "collapsed": false
   },
   "outputs": [
    {
     "data": {
      "image/png": "[encoded data removed]",
      "text/plain": [
       "<matplotlib.figure.Figure at 0x1159d17f0>"
      ]
     },
     "metadata": {},
     "output_type": "display_data"
    }
   ],
   "source": [
    "plt.axvline(binomialMean, color='b', linestyle='solid', linewidth=2)\n",
    "plt.axvline(binomialMean-binomial.std(), color='b', linestyle='dashed', linewidth=2)\n",
    "plt.axvline(binomialMean+binomial.std(), color='b', linestyle='dashed', linewidth=2)\n",
    "plt.show()"
   ]
  },
  {
   "cell_type": "code",
   "execution_count": null,
   "metadata": {
    "collapsed": true
   },
   "outputs": [],
   "source": [
    "# This distribution can give us useful information, since the mean is placed where the data clusters, with about 50%\n",
    "# of data falling on either side and with about 67% of data falling within one stadard deviation of the mean."
   ]
  },
  {
   "cell_type": "code",
   "execution_count": 66,
   "metadata": {
    "collapsed": true
   },
   "outputs": [],
   "source": [
    "# Generate a gamman distribution with \n",
    "gamma = np.random.gamma(10, 1, 100)"
   ]
  },
  {
   "cell_type": "code",
   "execution_count": 67,
   "metadata": {
    "collapsed": false
   },
   "outputs": [
    {
     "data": {
      "text/plain": [
       "(array([  2.,   3.,   9.,   6.,   8.,   8.,   7.,  13.,  14.,   9.,   7.,\n",
       "          4.,   5.,   0.,   1.,   0.,   2.,   0.,   0.,   2.]),\n",
       " array([  4.5070744 ,   5.25874043,   6.01040646,   6.76207249,\n",
       "          7.51373852,   8.26540456,   9.01707059,   9.76873662,\n",
       "         10.52040265,  11.27206868,  12.02373471,  12.77540075,\n",
       "         13.52706678,  14.27873281,  15.03039884,  15.78206487,\n",
       "         16.5337309 ,  17.28539693,  18.03706297,  18.788729  ,  19.54039503]),\n",
       " <a list of 20 Patch objects>)"
      ]
     },
     "execution_count": 67,
     "metadata": {},
     "output_type": "execute_result"
    }
   ],
   "source": [
    "plt.hist(gamma, bins=20, color='c')"
   ]
  },
  {
   "cell_type": "code",
   "execution_count": 68,
   "metadata": {
    "collapsed": false
   },
   "outputs": [
    {
     "name": "stdout",
     "output_type": "stream",
     "text": [
      "gammaMean:  10.1133063998\n",
      "gammaStd:  2.87953337757\n"
     ]
    }
   ],
   "source": [
    "gammaMean = gamma.mean()\n",
    "gammaStd = gamma.std()\n",
    "print (\"gammaMean: \", gammaMean)\n",
    "print (\"gammaStd: \", gammaStd)"
   ]
  },
  {
   "cell_type": "code",
   "execution_count": 69,
   "metadata": {
    "collapsed": false
   },
   "outputs": [
    {
     "data": {
      "image/png": "[encoded data removed]",
      "text/plain": [
       "<matplotlib.figure.Figure at 0x1162e00b8>"
      ]
     },
     "metadata": {},
     "output_type": "display_data"
    }
   ],
   "source": [
    "plt.axvline(gammaMean, color='b', linestyle='solid', linewidth=2)\n",
    "plt.axvline(gammaMean+gammaStd, color='b', linestyle='dashed', linewidth=2)\n",
    "plt.axvline(gammaMean-gammaStd, color='b', linestyle='dashed', linewidth=2)\n",
    "plt.show()"
   ]
  },
  {
   "cell_type": "code",
   "execution_count": 70,
   "metadata": {
    "collapsed": true
   },
   "outputs": [],
   "source": [
    "# The data are distributed as normal distribution, since the mean is placed in the center of the range, and about 67%\n",
    "# of data are falling within one standard deviation of the mean."
   ]
  },
  {
   "cell_type": "code",
   "execution_count": 104,
   "metadata": {
    "collapsed": true
   },
   "outputs": [],
   "source": [
    "poisson = np.random.poisson(3, 100)"
   ]
  },
  {
   "cell_type": "code",
   "execution_count": 105,
   "metadata": {
    "collapsed": false
   },
   "outputs": [
    {
     "data": {
      "text/plain": [
       "(array([  8.,   0.,   0.,   0.,   0.,  18.,   0.,   0.,   0.,   0.,   0.,\n",
       "         21.,   0.,   0.,   0.,   0.,   0.,  19.,   0.,   0.,   0.,   0.,\n",
       "         17.,   0.,   0.,   0.,   0.,   0.,   9.,   0.,   0.,   0.,   0.,\n",
       "          0.,   5.,   0.,   0.,   0.,   0.,   3.]),\n",
       " array([ 0.   ,  0.175,  0.35 ,  0.525,  0.7  ,  0.875,  1.05 ,  1.225,\n",
       "         1.4  ,  1.575,  1.75 ,  1.925,  2.1  ,  2.275,  2.45 ,  2.625,\n",
       "         2.8  ,  2.975,  3.15 ,  3.325,  3.5  ,  3.675,  3.85 ,  4.025,\n",
       "         4.2  ,  4.375,  4.55 ,  4.725,  4.9  ,  5.075,  5.25 ,  5.425,\n",
       "         5.6  ,  5.775,  5.95 ,  6.125,  6.3  ,  6.475,  6.65 ,  6.825,  7.   ]),\n",
       " <a list of 40 Patch objects>)"
      ]
     },
     "execution_count": 105,
     "metadata": {},
     "output_type": "execute_result"
    }
   ],
   "source": [
    "plt.hist(poisson, bins=40, color='c')"
   ]
  },
  {
   "cell_type": "code",
   "execution_count": 106,
   "metadata": {
    "collapsed": false
   },
   "outputs": [
    {
     "name": "stdout",
     "output_type": "stream",
     "text": [
      "poissonMean:  2.81\n",
      "poissonStd:  1.75325411735\n"
     ]
    }
   ],
   "source": [
    "poissonMean = poisson.mean()\n",
    "poissonStd = poisson.std()\n",
    "print (\"poissonMean: \", poissonMean)\n",
    "print (\"poissonStd: \", poissonStd)"
   ]
  },
  {
   "cell_type": "code",
   "execution_count": 107,
   "metadata": {
    "collapsed": false
   },
   "outputs": [
    {
     "data": {
      "image/png": "[encoded data removed]",
      "text/plain": [
       "<matplotlib.figure.Figure at 0x1171ed9e8>"
      ]
     },
     "metadata": {},
     "output_type": "display_data"
    }
   ],
   "source": [
    "plt.axvline(poissonMean, color='b',linestyle='solid', linewidth=2)\n",
    "plt.axvline(poissonMean+poissonStd, color='b',linestyle='dashed', linewidth=2)\n",
    "plt.axvline(poissonMean-poissonStd, color='b',linestyle='dashed', linewidth=2)\n",
    "plt.show()"
   ]
  },
  {
   "cell_type": "code",
   "execution_count": 97,
   "metadata": {
    "collapsed": true
   },
   "outputs": [],
   "source": [
    "# The datapoints within the variable are not distributed as normal, since not all 67% of data are falling within one \n",
    "# stadard deviation of below the mean although the mean value is placed in the center of \n",
    "# data clusters"
   ]
  },
  {
   "cell_type": "code",
   "execution_count": 136,
   "metadata": {
    "collapsed": false
   },
   "outputs": [
    {
     "data": {
      "image/png": "[encoded data removed]",
      "text/plain": [
       "<matplotlib.figure.Figure at 0x1175c59b0>"
      ]
     },
     "metadata": {},
     "output_type": "display_data"
    }
   ],
   "source": [
    "ecommerce = pd.DataFrame()\n",
    "ecommerce['spending'] = np.random.normal(75, 25, 100)\n",
    "# Plot a histogram.\n",
    "plt.hist(ecommerce['spending'], color='c')\n",
    "plt.show()"
   ]
  },
  {
   "cell_type": "code",
   "execution_count": 139,
   "metadata": {
    "collapsed": false
   },
   "outputs": [
    {
     "data": {
      "text/plain": [
       "(array([ 2.,  2.,  2.,  8.,  3.,  6.,  4.,  2.,  5.,  4.]),\n",
       " array([  32.27139242,   40.7570286 ,   49.24266479,   57.72830097,\n",
       "          66.21393716,   74.69957334,   83.18520953,   91.67084571,\n",
       "         100.15648189,  108.64211808,  117.12775426]),\n",
       " <a list of 10 Patch objects>)"
      ]
     },
     "execution_count": 139,
     "metadata": {},
     "output_type": "execute_result"
    }
   ],
   "source": [
    "ecommerce['visit_count'] = np.random.randint(0, 5, 100)\n",
    "radint = ecommerce[ecommerce['visit_count'] > 2]['spending']\n",
    "plt.hist(ecommerce[ecommerce['visit_count'] > 2]['spending'], color='c')"
   ]
  },
  {
   "cell_type": "code",
   "execution_count": 140,
   "metadata": {
    "collapsed": false
   },
   "outputs": [
    {
     "data": {
      "image/png": "[encoded data removed]",
      "text/plain": [
       "<matplotlib.figure.Figure at 0x117fc5358>"
      ]
     },
     "metadata": {},
     "output_type": "display_data"
    }
   ],
   "source": [
    "radintMean = radint.mean()\n",
    "radintStd = radint.std()\n",
    "plt.axvline(radintMean, color='b', linestyle='solid', linewidth=2)\n",
    "plt.axvline(radintMean-radintStd, color='b', linestyle='dashed', linewidth=2)\n",
    "plt.axvline(radintMean+radintStd, color='b', linestyle='dashed', linewidth=2)\n",
    "plt.show()"
   ]
  },
  {
   "cell_type": "code",
   "execution_count": 119,
   "metadata": {
    "collapsed": true
   },
   "outputs": [],
   "source": [
    "# This distribuiton is a normal distribution, since the mean is placed where the data clusters, and 67% of data are\n",
    "# falling within one stadard deviation of the mean."
   ]
  },
  {
   "cell_type": "code",
   "execution_count": 127,
   "metadata": {
    "collapsed": false
   },
   "outputs": [
    {
     "data": {
      "text/plain": [
       "(array([  3.,   5.,   5.,   8.,   8.,   8.,   7.,  10.,  12.,   7.,   7.,\n",
       "          5.,   3.,   2.,   1.,   3.,   0.,   2.,   1.,   3.]),\n",
       " array([ 0.07936923,  0.22531473,  0.37126024,  0.51720575,  0.66315126,\n",
       "         0.80909677,  0.95504227,  1.10098778,  1.24693329,  1.3928788 ,\n",
       "         1.5388243 ,  1.68476981,  1.83071532,  1.97666083,  2.12260634,\n",
       "         2.26855184,  2.41449735,  2.56044286,  2.70638837,  2.85233387,\n",
       "         2.99827938]),\n",
       " <a list of 20 Patch objects>)"
      ]
     },
     "execution_count": 127,
     "metadata": {},
     "output_type": "execute_result"
    }
   ],
   "source": [
    "rayleigh = np.random.rayleigh(1, 100)\n",
    "plt.hist(rayleigh, color='c', bins=20)"
   ]
  },
  {
   "cell_type": "code",
   "execution_count": 128,
   "metadata": {
    "collapsed": false
   },
   "outputs": [
    {
     "data": {
      "image/png": "[encoded data removed]",
      "text/plain": [
       "<matplotlib.figure.Figure at 0x117a4bfd0>"
      ]
     },
     "metadata": {},
     "output_type": "display_data"
    }
   ],
   "source": [
    "rayleighMean = rayleigh.mean()\n",
    "rayleighStd = rayleigh.std()\n",
    "plt.axvline(rayleighMean, color='b', linestyle='solid', linewidth=2)\n",
    "plt.axvline(rayleighMean-rayleighStd, color='b', linestyle='dashed', linewidth=2)\n",
    "plt.axvline(rayleighMean+rayleighStd, color='b', linestyle='dashed', linewidth=2)\n",
    "plt.show()"
   ]
  },
  {
   "cell_type": "code",
   "execution_count": 129,
   "metadata": {
    "collapsed": true
   },
   "outputs": [],
   "source": [
    "# The data can be discribed as normally distribuited, since the mean is placed where the data clusters, and \n",
    "# the standard deviation encompasses the same amount of data on each side of mean"
   ]
  },
  {
   "cell_type": "code",
   "execution_count": 131,
   "metadata": {
    "collapsed": false
   },
   "outputs": [
    {
     "data": {
      "text/plain": [
       "(array([ 16.,  10.,  12.,   9.,   7.,   5.,   7.,   8.,   4.,   6.,   1.,\n",
       "          2.,   0.,   3.,   2.,   2.,   2.,   1.,   1.,   2.]),\n",
       " array([  1.01035839e-02,   5.33677653e-01,   1.05725172e+00,\n",
       "          1.58082579e+00,   2.10439986e+00,   2.62797393e+00,\n",
       "          3.15154800e+00,   3.67512207e+00,   4.19869614e+00,\n",
       "          4.72227021e+00,   5.24584428e+00,   5.76941835e+00,\n",
       "          6.29299242e+00,   6.81656649e+00,   7.34014056e+00,\n",
       "          7.86371463e+00,   8.38728870e+00,   8.91086277e+00,\n",
       "          9.43443684e+00,   9.95801091e+00,   1.04815850e+01]),\n",
       " <a list of 20 Patch objects>)"
      ]
     },
     "execution_count": 131,
     "metadata": {},
     "output_type": "execute_result"
    }
   ],
   "source": [
    "exp = np.random.exponential(3, 100)\n",
    "plt.hist(exp, bins=20, color='c')"
   ]
  },
  {
   "cell_type": "code",
   "execution_count": 134,
   "metadata": {
    "collapsed": false
   },
   "outputs": [
    {
     "data": {
      "image/png": "[encoded data removed]",
      "text/plain": [
       "<matplotlib.figure.Figure at 0x117136400>"
      ]
     },
     "metadata": {},
     "output_type": "display_data"
    }
   ],
   "source": [
    "expMean = exp.mean()\n",
    "expStd = exp.std()\n",
    "plt.axvline(expMean, color='b', linestyle='solid', linewidth=2)\n",
    "plt.axvline(expMean-expStd, color='b', linestyle='dashed', linewidth=2)\n",
    "plt.axvline(expMean+expStd, color='b', linestyle='dashed', linewidth=2)\n",
    "plt.show()"
   ]
  },
  {
   "cell_type": "code",
   "execution_count": 135,
   "metadata": {
    "collapsed": true
   },
   "outputs": [],
   "source": [
    "# The data is closed to be normal, since the stadard deviation does not encompass the same amout of data on the side of \n",
    "# mean."
   ]
  },
  {
   "cell_type": "code",
   "execution_count": 141,
   "metadata": {
    "collapsed": true
   },
   "outputs": [],
   "source": [
    "#Generate two normally-distributed variables, one with a mean of 5 and standard deviation of 0.5, \n",
    "#and the other with a mean of 10 and standard deviation of 1.\n",
    "normalA = np.random.normal(5, 0.5, 100)\n",
    "normalB = np.random.normal(10, 1, 100)"
   ]
  },
  {
   "cell_type": "code",
   "execution_count": 146,
   "metadata": {
    "collapsed": false
   },
   "outputs": [
    {
     "data": {
      "image/png": "[encoded data removed]",
      "text/plain": [
       "<matplotlib.figure.Figure at 0x118236e10>"
      ]
     },
     "metadata": {},
     "output_type": "display_data"
    }
   ],
   "source": [
    "# Graph the variable using a histogram\n",
    "plt.hist(normalA, bins=20, color='c')\n",
    "normalAMean = normalA.mean()\n",
    "normalAStd = normalA.std()\n",
    "plt.axvline(normalAMean, color='b', linestyle='solid', linewidth=2)\n",
    "plt.axvline(normalAMean-normalAStd, color='b', linestyle='dashed', linewidth=2)\n",
    "plt.axvline(normalAMean+normalAStd, color='b', linestyle='dashed', linewidth=2)\n",
    "plt.show()"
   ]
  },
  {
   "cell_type": "code",
   "execution_count": 147,
   "metadata": {
    "collapsed": false
   },
   "outputs": [
    {
     "data": {
      "image/png": "[encoded data removed]",
      "text/plain": [
       "<matplotlib.figure.Figure at 0x11829eef0>"
      ]
     },
     "metadata": {},
     "output_type": "display_data"
    }
   ],
   "source": [
    "# Add them together to create a third variable\n",
    "plt.hist(normalB, bins=20, color='c')\n",
    "normalBMean = normalB.mean()\n",
    "normalBStd = normalB.std()\n",
    "plt.axvline(normalBMean, color='b', linestyle='solid', linewidth=2)\n",
    "plt.axvline(normalBMean-normalBStd, color='b', linestyle='dashed', linewidth=2)\n",
    "plt.axvline(normalBMean+normalBStd, color='b', linestyle='dashed', linewidth=2)\n",
    "plt.show()"
   ]
  },
  {
   "cell_type": "code",
   "execution_count": 152,
   "metadata": {
    "collapsed": false
   },
   "outputs": [
    {
     "data": {
      "image/png": "[encoded data removed]",
      "text/plain": [
       "<matplotlib.figure.Figure at 0x1188981d0>"
      ]
     },
     "metadata": {},
     "output_type": "display_data"
    },
    {
     "name": "stdout",
     "output_type": "stream",
     "text": [
      "normalAMean:  4.99208322944\n",
      "normalAStd:  0.461261287098\n",
      "normalBMean: 10.1245031086\n",
      "normalBStd: 1.10883915756\n",
      "normalCMean:  15.116586338\n",
      "normalCStd:  1.19506671392\n"
     ]
    }
   ],
   "source": [
    "normalC = normalA + normalB\n",
    "plt.hist(normalC, bins=20, color='c')\n",
    "normalCMean = normalC.mean()\n",
    "normalCStd = normalC.std()\n",
    "plt.axvline(normalCMean, color='b', linestyle='solid', linewidth=2)\n",
    "plt.axvline(normalCMean-normalCStd, color='b', linestyle='dashed', linewidth=2)\n",
    "plt.axvline(normalCMean+normalCStd, color='b', linestyle='dashed', linewidth=2)\n",
    "plt.show()\n",
    "print (\"normalAMean: \", normalAMean)\n",
    "print (\"normalAStd: \", normalAStd)\n",
    "print (\"normalBMean:\", normalBMean)\n",
    "print (\"normalBStd:\" , normalBStd)\n",
    "print (\"normalCMean: \", normalCMean)\n",
    "print (\"normalCStd: \", normalCStd)"
   ]
  },
  {
   "cell_type": "code",
   "execution_count": null,
   "metadata": {
    "collapsed": true
   },
   "outputs": [],
   "source": [
    "# Evaluate the descriptive statistics against the data\n",
    "# This data is very closed to normal distribution when combining two variables together. "
   ]
  }
 ],
 "metadata": {
  "kernelspec": {
   "display_name": "Python 3",
   "language": "python",
   "name": "python3"
  },
  "language_info": {
   "codemirror_mode": {
    "name": "ipython",
    "version": 3
   },
   "file_extension": ".py",
   "mimetype": "text/x-python",
   "name": "python",
   "nbconvert_exporter": "python",
   "pygments_lexer": "ipython3",
   "version": "3.6.0"
  }
 },
 "nbformat": 4,
 "nbformat_minor": 2
}
