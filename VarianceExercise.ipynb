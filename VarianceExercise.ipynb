{
 "cells": [
  {
   "cell_type": "code",
   "execution_count": 4,
   "metadata": {
    "collapsed": false
   },
   "outputs": [],
   "source": [
    "import pandas as pd\n",
    "import numpy as np\n",
    "import matplotlib.pyplot as plt"
   ]
  },
  {
   "cell_type": "code",
   "execution_count": 5,
   "metadata": {
    "collapsed": true
   },
   "outputs": [],
   "source": [
    "#Greg was 14, Marcia was 12, Peter was 11, Jan was 10, Bobby was 8, \n",
    "#and Cindy was 6 when they started playing the Brady kids on The Brady Bunch. \n",
    "#Cousin Oliver was 8 years old when he joined the show. "
   ]
  },
  {
   "cell_type": "code",
   "execution_count": 6,
   "metadata": {
    "collapsed": false
   },
   "outputs": [],
   "source": [
    "kidAgeList = [14, 12, 11, 10, 8, 6,9]\n",
    "kidDf = pd.DataFrame()\n",
    "kidDf['Age'] = kidAgeList"
   ]
  },
  {
   "cell_type": "code",
   "execution_count": 7,
   "metadata": {
    "collapsed": false
   },
   "outputs": [
    {
     "data": {
      "text/html": [
       "<div>\n",
       "<table border=\"1\" class=\"dataframe\">\n",
       "  <thead>\n",
       "    <tr style=\"text-align: right;\">\n",
       "      <th></th>\n",
       "      <th>Age</th>\n",
       "    </tr>\n",
       "  </thead>\n",
       "  <tbody>\n",
       "    <tr>\n",
       "      <th>0</th>\n",
       "      <td>14</td>\n",
       "    </tr>\n",
       "    <tr>\n",
       "      <th>1</th>\n",
       "      <td>12</td>\n",
       "    </tr>\n",
       "    <tr>\n",
       "      <th>2</th>\n",
       "      <td>11</td>\n",
       "    </tr>\n",
       "    <tr>\n",
       "      <th>3</th>\n",
       "      <td>10</td>\n",
       "    </tr>\n",
       "    <tr>\n",
       "      <th>4</th>\n",
       "      <td>8</td>\n",
       "    </tr>\n",
       "    <tr>\n",
       "      <th>5</th>\n",
       "      <td>6</td>\n",
       "    </tr>\n",
       "    <tr>\n",
       "      <th>6</th>\n",
       "      <td>9</td>\n",
       "    </tr>\n",
       "  </tbody>\n",
       "</table>\n",
       "</div>"
      ],
      "text/plain": [
       "   Age\n",
       "0   14\n",
       "1   12\n",
       "2   11\n",
       "3   10\n",
       "4    8\n",
       "5    6\n",
       "6    9"
      ]
     },
     "execution_count": 7,
     "metadata": {},
     "output_type": "execute_result"
    }
   ],
   "source": [
    "kidDf"
   ]
  },
  {
   "cell_type": "code",
   "execution_count": 8,
   "metadata": {
    "collapsed": false
   },
   "outputs": [
    {
     "name": "stdout",
     "output_type": "stream",
     "text": [
      "10.0\n",
      "10.0\n"
     ]
    }
   ],
   "source": [
    "#What are the mean, median, and mode of the kids' ages when they first appeared on the show? \n",
    "mean = np.mean(kidDf['Age'])\n",
    "print (mean)\n",
    "mean = kidDf['Age'].mean()\n",
    "print (mean)"
   ]
  },
  {
   "cell_type": "code",
   "execution_count": 9,
   "metadata": {
    "collapsed": false
   },
   "outputs": [
    {
     "name": "stdout",
     "output_type": "stream",
     "text": [
      "10.0\n",
      "10.0\n"
     ]
    }
   ],
   "source": [
    "median = np.median(kidDf['Age'])\n",
    "print (median)\n",
    "median = kidDf['Age'].median()\n",
    "print (median)"
   ]
  },
  {
   "cell_type": "code",
   "execution_count": 10,
   "metadata": {
    "collapsed": false
   },
   "outputs": [
    {
     "name": "stdout",
     "output_type": "stream",
     "text": [
      "[ 6  8  9 10 11 12 14] [1 1 1 1 1 1 1]\n",
      "mode of age: 6\n"
     ]
    }
   ],
   "source": [
    "(values, counts) = np.unique(kidDf['Age'], return_counts=True)\n",
    "print (values, counts)\n",
    "idx = np.argmax(counts)\n",
    "mode = values[idx]\n",
    "print (\"mode of age: \" + str(mode))"
   ]
  },
  {
   "cell_type": "code",
   "execution_count": 14,
   "metadata": {
    "collapsed": false
   },
   "outputs": [
    {
     "name": "stdout",
     "output_type": "stream",
     "text": [
      "variance(calculated by hands): 6.0\n",
      "6.0\n",
      "1.55555555556\n"
     ]
    }
   ],
   "source": [
    "#What are the variance, standard deviation, and standard error?\n",
    "total = 0\n",
    "for num in kidAgeList:\n",
    "    total += (num - mean)**2\n",
    "variance = total / (len(kidAgeList) )\n",
    "print (\"variance(calculated by hands): \"+ str(variance))\n",
    "print (np.var(kidDf['Age']))\n",
    "print (np.var([6,8,9]))"
   ]
  },
  {
   "cell_type": "code",
   "execution_count": 41,
   "metadata": {
    "collapsed": false
   },
   "outputs": [
    {
     "name": "stdout",
     "output_type": "stream",
     "text": [
      "2.6457513110645907\n",
      "2.6457513110645907\n"
     ]
    }
   ],
   "source": [
    "print (variance**0.5)\n",
    "std = np.std(kidDf['Age'], ddof=1)\n",
    "print (std)"
   ]
  },
  {
   "cell_type": "code",
   "execution_count": 42,
   "metadata": {
    "collapsed": false
   },
   "outputs": [
    {
     "name": "stdout",
     "output_type": "stream",
     "text": [
      "1.0\n",
      "1.08012344973\n"
     ]
    }
   ],
   "source": [
    "stdErr = std / (len(kidAgeList)**0.5)\n",
    "print (stdErr)\n",
    "stdErr = np.std(kidDf['Age'], ddof=1) / np.sqrt(len(kidAgeList) - 1)\n",
    "print (stdErr)"
   ]
  },
  {
   "cell_type": "code",
   "execution_count": 43,
   "metadata": {
    "collapsed": true
   },
   "outputs": [],
   "source": [
    "#Using these estimates, if you had to choose only one estimate of central tendency \n",
    "#and one estimate of variance to describe the data, which would you pick and why?\n",
    "#=> I would pick central tendency to describe the data. \n",
    "#=> One of reason to not choose variance is because the variance of the age vairable is very small, \n",
    "#   which means the values in the variable do not differ with others a lot. so we cannot find special case from \n",
    "#   this sample. Besides, the standard error is very small, which means the mean value from sample is pretty precise \n",
    "#   "
   ]
  },
  {
   "cell_type": "code",
   "execution_count": 34,
   "metadata": {
    "collapsed": true
   },
   "outputs": [],
   "source": [
    "#Next, Cindy has a birthday. Update your estimates- what changed, and what didn't?\n",
    "# The value of mean, std, stdErr changed\n",
    "# The value of median and mode didn't change"
   ]
  },
  {
   "cell_type": "code",
   "execution_count": 44,
   "metadata": {
    "collapsed": true
   },
   "outputs": [],
   "source": [
    "#Nobody likes Cousin Oliver. Maybe the network should have used an even younger actor.\n",
    "#Replace Cousin Oliver with 1-year-old Jessica, then recalculate again. \n",
    "#Does this change your choice of central tendency or variance estimation methods?\n",
    "# => No, I would still choose central tendency to describe the data"
   ]
  },
  {
   "cell_type": "code",
   "execution_count": 47,
   "metadata": {
    "collapsed": false
   },
   "outputs": [
    {
     "name": "stdout",
     "output_type": "stream",
     "text": [
      "fans    16.25\n",
      "dtype: float64\n",
      "fans    18.5\n",
      "dtype: float64\n",
      "46.6875\n",
      "7.88986691902975\n"
     ]
    }
   ],
   "source": [
    "#On the 50th anniversary of The Brady Bunch, four different magazines asked their readers \n",
    "#whether they were fans of the show. The answers were: TV Guide 20% fans Entertainment Weekly 23% \n",
    "#fans Pop Culture Today 17% fans SciPhi Phanatic 5% fans\n",
    "#Based on these numbers, what percentage of adult Americans would you estimate \n",
    "#were Brady Bunch fans on the 50th anniversary of the show?\n",
    "fans = [20, 23, 17, 5]\n",
    "fanDf = pd.DataFrame()\n",
    "fanDf['fans'] = fans\n",
    "print (fanDf.mean())\n",
    "print (fanDf.median())\n",
    "print (np.var(fanDf['fans']))\n",
    "print (np.std(fanDf['fans'], ddof=1))"
   ]
  },
  {
   "cell_type": "code",
   "execution_count": 48,
   "metadata": {
    "collapsed": true
   },
   "outputs": [],
   "source": [
    "# I would estimate the percentage fall in the range of 8.37% to 26.38%"
   ]
  },
  {
   "cell_type": "code",
   "execution_count": null,
   "metadata": {
    "collapsed": true
   },
   "outputs": [],
   "source": []
  }
 ],
 "metadata": {
  "kernelspec": {
   "display_name": "Python 3",
   "language": "python",
   "name": "python3"
  },
  "language_info": {
   "codemirror_mode": {
    "name": "ipython",
    "version": 3
   },
   "file_extension": ".py",
   "mimetype": "text/x-python",
   "name": "python",
   "nbconvert_exporter": "python",
   "pygments_lexer": "ipython3",
   "version": "3.6.0"
  }
 },
 "nbformat": 4,
 "nbformat_minor": 2
}
