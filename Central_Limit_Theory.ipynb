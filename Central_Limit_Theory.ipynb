{
 "cells": [
  {
   "cell_type": "code",
   "execution_count": 1,
   "metadata": {
    "collapsed": true
   },
   "outputs": [],
   "source": [
    "import numpy as np\n",
    "import pandas as pd\n",
    "import scipy\n",
    "import matplotlib.pyplot as plt"
   ]
  },
  {
   "cell_type": "code",
   "execution_count": 2,
   "metadata": {
    "collapsed": true
   },
   "outputs": [],
   "source": [
    "pop1 = np.random.binomial(10, 0.2, 10000)\n",
    "pop2 = np.random.binomial(10,0.5, 10000) "
   ]
  },
  {
   "cell_type": "code",
   "execution_count": 3,
   "metadata": {
    "collapsed": true
   },
   "outputs": [],
   "source": [
    "sample1 = np.random.choice(pop1, 100, replace=True)\n",
    "sample2 = np.random.choice(pop2, 100, replace=True)"
   ]
  },
  {
   "cell_type": "code",
   "execution_count": 4,
   "metadata": {
    "collapsed": false
   },
   "outputs": [
    {
     "name": "stdout",
     "output_type": "stream",
     "text": [
      "2.23\n",
      "5.29\n",
      "1.40609388022\n",
      "1.65102998156\n"
     ]
    }
   ],
   "source": [
    "print(sample1.mean())\n",
    "print(sample2.mean())\n",
    "print(sample1.std())\n",
    "print(sample2.std())"
   ]
  },
  {
   "cell_type": "code",
   "execution_count": 5,
   "metadata": {
    "collapsed": true
   },
   "outputs": [],
   "source": [
    "sample1 = np.random.choice(pop1, 1000, replace=True)\n",
    "sample2 = np.random.choice(pop2, 1000, replace=True)"
   ]
  },
  {
   "cell_type": "code",
   "execution_count": 6,
   "metadata": {
    "collapsed": false
   },
   "outputs": [
    {
     "name": "stdout",
     "output_type": "stream",
     "text": [
      "1.981\n",
      "4.907\n",
      "1.27774762766\n",
      "1.59698184085\n"
     ]
    }
   ],
   "source": [
    "print(sample1.mean())\n",
    "print(sample2.mean())\n",
    "print(sample1.std())\n",
    "print(sample2.std())"
   ]
  },
  {
   "cell_type": "code",
   "execution_count": 7,
   "metadata": {
    "collapsed": false
   },
   "outputs": [
    {
     "data": {
      "image/png": "[encoded data removed]",
      "text/plain": [
       "<matplotlib.figure.Figure at 0x1188f13c8>"
      ]
     },
     "metadata": {},
     "output_type": "display_data"
    }
   ],
   "source": [
    "plt.hist(sample1, alpha=0.5, label='sample 1') \n",
    "plt.hist(sample2, alpha=0.5, label='sample 2') \n",
    "plt.legend(loc='upper right') \n",
    "plt.show()"
   ]
  },
  {
   "cell_type": "code",
   "execution_count": 8,
   "metadata": {
    "collapsed": true
   },
   "outputs": [],
   "source": [
    "sample1 = np.random.choice(pop1, 20, replace=True)\n",
    "sample2 = np.random.choice(pop2, 20, replace=True)"
   ]
  },
  {
   "cell_type": "code",
   "execution_count": 9,
   "metadata": {
    "collapsed": false
   },
   "outputs": [
    {
     "name": "stdout",
     "output_type": "stream",
     "text": [
      "1.8\n",
      "5.4\n",
      "1.0295630141\n",
      "1.71464281995\n"
     ]
    }
   ],
   "source": [
    "print(sample1.mean())\n",
    "print(sample2.mean())\n",
    "print(sample1.std())\n",
    "print(sample2.std())"
   ]
  },
  {
   "cell_type": "code",
   "execution_count": 10,
   "metadata": {
    "collapsed": false
   },
   "outputs": [
    {
     "data": {
      "image/png": "[encoded data removed]",
      "text/plain": [
       "<matplotlib.figure.Figure at 0x11bd040b8>"
      ]
     },
     "metadata": {},
     "output_type": "display_data"
    }
   ],
   "source": [
    "plt.hist(sample1, alpha=0.5, label='sample 1') \n",
    "plt.hist(sample2, alpha=0.5, label='sample 2') \n",
    "plt.legend(loc='upper right') \n",
    "plt.show()"
   ]
  },
  {
   "cell_type": "code",
   "execution_count": 11,
   "metadata": {
    "collapsed": true
   },
   "outputs": [],
   "source": [
    "pop1 = np.random.binomial(10, 0.3, 10000)\n",
    "pop2 = np.random.binomial(10,0.5, 10000) "
   ]
  },
  {
   "cell_type": "code",
   "execution_count": 17,
   "metadata": {
    "collapsed": false
   },
   "outputs": [
    {
     "name": "stdout",
     "output_type": "stream",
     "text": [
      "3.05\n",
      "4.95\n",
      "1.02347447452\n",
      "1.85674446276\n",
      "1.9\n"
     ]
    }
   ],
   "source": [
    "sample1 = np.random.choice(pop1, 20, replace=True)\n",
    "sample2 = np.random.choice(pop2, 20, replace=True)\n",
    "print(sample1.mean())\n",
    "print(sample2.mean())\n",
    "print(sample1.std())\n",
    "print(sample2.std())\n",
    "diff=sample2.mean( ) -sample1.mean()\n",
    "print(diff)"
   ]
  },
  {
   "cell_type": "code",
   "execution_count": 19,
   "metadata": {
    "collapsed": false
   },
   "outputs": [
    {
     "name": "stdout",
     "output_type": "stream",
     "text": [
      "4.00777886552\n",
      "Ttest_indResult(statistic=3.9062996381718236, pvalue=0.00050287009841612344)\n"
     ]
    }
   ],
   "source": [
    "size = np.array([len(sample1), len(sample2)])\n",
    "sd = np.array([sample1.std(), sample2.std()])\n",
    "\n",
    "# The squared standard deviations are divided by the sample size and summed, then we take\n",
    "# the square root of the sum. \n",
    "diff_se = sum(sd ** 2 / size) ** 0.5  \n",
    "\n",
    "#The difference between the means divided by the standard error: T-value.  \n",
    "print(diff/diff_se)\n",
    "from scipy.stats import ttest_ind\n",
    "print(ttest_ind(sample2, sample1, equal_var=False))"
   ]
  },
  {
   "cell_type": "code",
   "execution_count": 13,
   "metadata": {
    "collapsed": false
   },
   "outputs": [
    {
     "data": {
      "image/png": "[encoded data removed]",
      "text/plain": [
       "<matplotlib.figure.Figure at 0x11bda9dd8>"
      ]
     },
     "metadata": {},
     "output_type": "display_data"
    }
   ],
   "source": [
    "plt.hist(sample1, alpha=0.5, label='sample 1') \n",
    "plt.hist(sample2, alpha=0.5, label='sample 2') \n",
    "plt.legend(loc='upper right') \n",
    "plt.show()"
   ]
  },
  {
   "cell_type": "code",
   "execution_count": 14,
   "metadata": {
    "collapsed": true
   },
   "outputs": [],
   "source": [
    "sample1 = np.random.choice(pop1, 1000, replace=True)\n",
    "sample2 = np.random.choice(pop2, 1000, replace=True)"
   ]
  },
  {
   "cell_type": "code",
   "execution_count": 15,
   "metadata": {
    "collapsed": false
   },
   "outputs": [
    {
     "name": "stdout",
     "output_type": "stream",
     "text": [
      "3.08\n",
      "5.042\n",
      "1.46273716026\n",
      "1.55055989888\n"
     ]
    }
   ],
   "source": [
    "print(sample1.mean())\n",
    "print(sample2.mean())\n",
    "print(sample1.std())\n",
    "print(sample2.std())"
   ]
  },
  {
   "cell_type": "code",
   "execution_count": 20,
   "metadata": {
    "collapsed": false
   },
   "outputs": [
    {
     "name": "stdout",
     "output_type": "stream",
     "text": [
      "Ttest_indResult(statistic=3.9062996381718236, pvalue=0.00050287009841612344)\n"
     ]
    }
   ],
   "source": [
    "from scipy.stats import ttest_ind\n",
    "print(ttest_ind(sample2, sample1, equal_var=False))"
   ]
  },
  {
   "cell_type": "code",
   "execution_count": 16,
   "metadata": {
    "collapsed": false
   },
   "outputs": [
    {
     "data": {
      "image/png": "[encoded data removed]",
      "text/plain": [
       "<matplotlib.figure.Figure at 0x11c0ebef0>"
      ]
     },
     "metadata": {},
     "output_type": "display_data"
    }
   ],
   "source": [
    "plt.hist(sample1, alpha=0.5, label='sample 1') \n",
    "plt.hist(sample2, alpha=0.5, label='sample 2') \n",
    "plt.legend(loc='upper right') \n",
    "plt.show()"
   ]
  },
  {
   "cell_type": "code",
   "execution_count": 21,
   "metadata": {
    "collapsed": true
   },
   "outputs": [],
   "source": [
    "pop1 = np.random.binomial(10, 0.4, 10000)\n",
    "pop2 = np.random.binomial(10,0.5, 10000) "
   ]
  },
  {
   "cell_type": "code",
   "execution_count": 22,
   "metadata": {
    "collapsed": false
   },
   "outputs": [
    {
     "name": "stdout",
     "output_type": "stream",
     "text": [
      "4.05\n",
      "4.75\n",
      "1.32193040664\n",
      "1.75712833908\n"
     ]
    }
   ],
   "source": [
    "sample1 = np.random.choice(pop1, 20, replace=True)\n",
    "sample2 = np.random.choice(pop2, 20, replace=True)\n",
    "print(sample1.mean())\n",
    "print(sample2.mean())\n",
    "print(sample1.std())\n",
    "print(sample2.std())"
   ]
  },
  {
   "cell_type": "code",
   "execution_count": 23,
   "metadata": {
    "collapsed": false
   },
   "outputs": [
    {
     "name": "stdout",
     "output_type": "stream",
     "text": [
      "Ttest_indResult(statistic=1.3876393321882246, pvalue=0.17394741899467933)\n"
     ]
    }
   ],
   "source": [
    "from scipy.stats import ttest_ind\n",
    "print(ttest_ind(sample2, sample1, equal_var=False))"
   ]
  },
  {
   "cell_type": "code",
   "execution_count": 24,
   "metadata": {
    "collapsed": false
   },
   "outputs": [
    {
     "name": "stdout",
     "output_type": "stream",
     "text": [
      "3.96\n",
      "5.115\n",
      "1.59009433682\n",
      "1.49725582316\n"
     ]
    }
   ],
   "source": [
    "sample1 = np.random.choice(pop1, 200, replace=True)\n",
    "sample2 = np.random.choice(pop2, 200, replace=True)\n",
    "print(sample1.mean())\n",
    "print(sample2.mean())\n",
    "print(sample1.std())\n",
    "print(sample2.std())"
   ]
  },
  {
   "cell_type": "code",
   "execution_count": 25,
   "metadata": {
    "collapsed": false
   },
   "outputs": [
    {
     "name": "stdout",
     "output_type": "stream",
     "text": [
      "Ttest_indResult(statistic=7.4600436127137062, pvalue=5.513074850964303e-13)\n"
     ]
    }
   ],
   "source": [
    "from scipy.stats import ttest_ind\n",
    "print(ttest_ind(sample2, sample1, equal_var=False))"
   ]
  },
  {
   "cell_type": "code",
   "execution_count": 31,
   "metadata": {
    "collapsed": false
   },
   "outputs": [
    {
     "name": "stdout",
     "output_type": "stream",
     "text": [
      "10.0119074164\n",
      "9.98077007963\n",
      "4.43556489266\n",
      "3.16981699634\n"
     ]
    }
   ],
   "source": [
    "pop1 = np.random.gamma(5, 2, 10000)\n",
    "pop2 = np.random.gamma(10, 1, 10000)\n",
    "print (pop1.mean())\n",
    "print (pop2.mean())\n",
    "print (pop1.std())\n",
    "print (pop2.std())"
   ]
  },
  {
   "cell_type": "code",
   "execution_count": 28,
   "metadata": {
    "collapsed": false
   },
   "outputs": [
    {
     "name": "stdout",
     "output_type": "stream",
     "text": [
      "9.45706418847\n",
      "9.61280395922\n",
      "4.43131886554\n",
      "3.00702433551\n"
     ]
    }
   ],
   "source": [
    "sample1 = np.random.choice(pop1, 200, replace=True)\n",
    "sample2 = np.random.choice(pop2, 200, replace=True)\n",
    "print(sample1.mean())\n",
    "print(sample2.mean())\n",
    "print(sample1.std())\n",
    "print(sample2.std())"
   ]
  },
  {
   "cell_type": "code",
   "execution_count": 29,
   "metadata": {
    "collapsed": false
   },
   "outputs": [
    {
     "name": "stdout",
     "output_type": "stream",
     "text": [
      "Ttest_indResult(statistic=0.41024728548726658, pvalue=0.68187541652047967)\n"
     ]
    }
   ],
   "source": [
    "from scipy.stats import ttest_ind\n",
    "print(ttest_ind(sample2, sample1, equal_var=False))"
   ]
  },
  {
   "cell_type": "code",
   "execution_count": 30,
   "metadata": {
    "collapsed": false
   },
   "outputs": [
    {
     "data": {
      "image/png": "[encoded data removed]",
      "text/plain": [
       "<matplotlib.figure.Figure at 0x11beb6be0>"
      ]
     },
     "metadata": {},
     "output_type": "display_data"
    }
   ],
   "source": [
    "plt.hist(sample1, alpha=0.5, label='sample 1') \n",
    "plt.hist(sample2, alpha=0.5, label='sample 2') \n",
    "plt.legend(loc='upper right') \n",
    "plt.show()"
   ]
  },
  {
   "cell_type": "code",
   "execution_count": null,
   "metadata": {
    "collapsed": true
   },
   "outputs": [],
   "source": []
  }
 ],
 "metadata": {
  "kernelspec": {
   "display_name": "Python 3",
   "language": "python",
   "name": "python3"
  },
  "language_info": {
   "codemirror_mode": {
    "name": "ipython",
    "version": 3
   },
   "file_extension": ".py",
   "mimetype": "text/x-python",
   "name": "python",
   "nbconvert_exporter": "python",
   "pygments_lexer": "ipython3",
   "version": "3.6.0"
  }
 },
 "nbformat": 4,
 "nbformat_minor": 2
}
